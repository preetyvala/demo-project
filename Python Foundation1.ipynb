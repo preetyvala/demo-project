{
 "cells": [
  {
   "cell_type": "markdown",
   "id": "b6cd2f02-a4a1-4d43-a683-4d3b9c74168d",
   "metadata": {
    "panel-layout": {
     "height": 60.602272033691406,
     "visible": true,
     "width": 100
    }
   },
   "source": [
    "# __Tutorial of Python__"
   ]
  },
  {
   "cell_type": "markdown",
   "id": "d2ab9df8-a4e5-43ce-ac3b-b7f4b35857a4",
   "metadata": {
    "panel-layout": {
     "height": 68.2727279663086,
     "visible": true,
     "width": 100
    }
   },
   "source": [
    "Python is a programming language. Nowadays, Python is a very popular programming language. It is not the latest programming language; it came into being in 1989, and Java came into being in 1995. So, you can imagine how old this programming language is. This programming language is used in most fields, such as Data Analytics, Data Science, A.I., Data Engineer, and many more."
   ]
  },
  {
   "cell_type": "markdown",
   "id": "d9b3a803-e802-4f95-8a0f-61549a6303ea",
   "metadata": {
    "panel-layout": {
     "height": 60.602272033691406,
     "visible": true,
     "width": 100
    }
   },
   "source": [
    "# What is jupyter Notebook"
   ]
  },
  {
   "cell_type": "markdown",
   "id": "2b5fed2c-48da-4f1b-a04d-d186b6158ccc",
   "metadata": {
    "panel-layout": {
     "height": 126.54545593261719,
     "visible": true,
     "width": 100
    }
   },
   "source": [
    "* The Jupyter Notebook is an open-source web application that allows data scientists to create and share documents that integrate live code, equations, computational output, visualizations, and other multimedia resources.\n",
    "* Uses includes data cleaning and transformation, numericals, simulation, statistical modeling, data visualization,machine learning, and much more.\n",
    "\n",
    "   Jupyter Notebook is an open-source web application that allows to interect with python."
   ]
  },
  {
   "cell_type": "markdown",
   "id": "d209b985-1e96-48f9-a06a-f1eddfcb42c9",
   "metadata": {
    "panel-layout": {
     "height": 60.602272033691406,
     "visible": true,
     "width": 100
    }
   },
   "source": [
    "# Advantage:-"
   ]
  },
  {
   "cell_type": "markdown",
   "id": "c165743b-ab38-47da-9253-b372f5b2251c",
   "metadata": {
    "panel-layout": {
     "height": 136.8181915283203,
     "visible": true,
     "width": 100
    }
   },
   "source": [
    "* interactive\n",
    "* Result/outputs are stored so it is easy to review\n",
    "* Friendly to Documentation\n",
    "* No Limitation from performance\n",
    "* Helpful Shortcuts\n",
    "* Industry standard for all Data Science, ML, AI projects.\n",
    "  "
   ]
  },
  {
   "cell_type": "markdown",
   "id": "826cdc33-27b1-41af-b60d-3ab43a41e708",
   "metadata": {
    "panel-layout": {
     "height": 51.1363639831543,
     "visible": true,
     "width": 100
    }
   },
   "source": [
    "Extension of jupyter file is ipynb (i python notebook, previous name of Jupyter)"
   ]
  },
  {
   "cell_type": "markdown",
   "id": "b268ab1a-e96b-41e0-a74b-53ff239babdd",
   "metadata": {
    "panel-layout": {
     "height": 60.602272033691406,
     "visible": true,
     "width": 100
    }
   },
   "source": [
    "# Short Cuts"
   ]
  },
  {
   "cell_type": "markdown",
   "id": "4406987f-2f7e-44e5-8ca1-f7002f94bf48",
   "metadata": {
    "panel-layout": {
     "height": 251.63638305664062,
     "visible": true,
     "width": 100
    }
   },
   "source": [
    "[shift] + [enter] : run a cell\n",
    "Command Mode :\n",
    "* esc and a : Insert cell Above\n",
    "* esc and b : insert cell below\n",
    "* esc and dd : delete a cell\n",
    "* esc and z : undo a delete cell\n",
    "* esc and r : convert cell to raw cell\n",
    "* esc and m : convert cell to markdown cell\n",
    "* esc and y : convert cell to code cell\n",
    "* esc and c : copy a cell\n",
    "* esc and v : paste a cell\n",
    "* esc and x : cut a cell"
   ]
  },
  {
   "cell_type": "markdown",
   "id": "068ff352-a427-439d-bf2a-b9ea9b8a5866",
   "metadata": {
    "panel-layout": {
     "height": 180.9886474609375,
     "visible": true,
     "width": 100
    }
   },
   "source": [
    "# Edit Mode:\n",
    "Ctrl + C : copy a text\n",
    "\n",
    "Ctrl + V : Paste\n",
    "\n",
    "Ctrl + X : Cut\n",
    "\n",
    "Ctrl + Z : undo"
   ]
  },
  {
   "cell_type": "markdown",
   "id": "881b1d8f-9d8f-45c4-a5ec-2250e17e241a",
   "metadata": {
    "panel-layout": {
     "height": 60.602272033691406,
     "visible": true,
     "width": 100
    }
   },
   "source": [
    "# Keywords"
   ]
  },
  {
   "cell_type": "code",
   "execution_count": 298,
   "id": "068fdcdc-a27b-4310-b5b5-98af94328c7b",
   "metadata": {},
   "outputs": [],
   "source": [
    "import keyword"
   ]
  },
  {
   "cell_type": "code",
   "execution_count": 299,
   "id": "c2864b38-c54b-4214-9896-ea6cedce2d07",
   "metadata": {
    "panel-layout": {
     "height": 648.977294921875,
     "visible": true,
     "width": 100
    }
   },
   "outputs": [
    {
     "data": {
      "text/plain": [
       "['False',\n",
       " 'None',\n",
       " 'True',\n",
       " 'and',\n",
       " 'as',\n",
       " 'assert',\n",
       " 'async',\n",
       " 'await',\n",
       " 'break',\n",
       " 'class',\n",
       " 'continue',\n",
       " 'def',\n",
       " 'del',\n",
       " 'elif',\n",
       " 'else',\n",
       " 'except',\n",
       " 'finally',\n",
       " 'for',\n",
       " 'from',\n",
       " 'global',\n",
       " 'if',\n",
       " 'import',\n",
       " 'in',\n",
       " 'is',\n",
       " 'lambda',\n",
       " 'nonlocal',\n",
       " 'not',\n",
       " 'or',\n",
       " 'pass',\n",
       " 'raise',\n",
       " 'return',\n",
       " 'try',\n",
       " 'while',\n",
       " 'with',\n",
       " 'yield']"
      ]
     },
     "execution_count": 299,
     "metadata": {},
     "output_type": "execute_result"
    }
   ],
   "source": [
    "keyword.kwlist"
   ]
  },
  {
   "cell_type": "code",
   "execution_count": 300,
   "id": "7c100819-5f90-4a9b-bd22-517f740256d1",
   "metadata": {
    "panel-layout": {
     "height": 27.136363983154297,
     "visible": true,
     "width": 100
    }
   },
   "outputs": [
    {
     "data": {
      "text/plain": [
       "35"
      ]
     },
     "execution_count": 300,
     "metadata": {},
     "output_type": "execute_result"
    }
   ],
   "source": [
    "len(keyword.kwlist)"
   ]
  },
  {
   "cell_type": "markdown",
   "id": "3c8c95ff-204a-481f-b6a3-9710dee9e5b1",
   "metadata": {
    "panel-layout": {
     "height": 60.602272033691406,
     "visible": true,
     "width": 100
    }
   },
   "source": [
    "# Identifiers"
   ]
  },
  {
   "cell_type": "markdown",
   "id": "6a8f8903-850b-4067-b84f-5c1d47c92318",
   "metadata": {
    "panel-layout": {
     "height": 68.2727279663086,
     "visible": true,
     "width": 100
    }
   },
   "source": [
    "* An Identifier is the name given to entities like functions, variables etc.\n",
    "* it helps in differentiating one entity from other."
   ]
  },
  {
   "cell_type": "markdown",
   "id": "ec699ddf-2a96-41e3-bb0b-c2846b467a74",
   "metadata": {
    "panel-layout": {
     "height": 60.602272033691406,
     "visible": true,
     "width": 100
    }
   },
   "source": [
    "# Note"
   ]
  },
  {
   "cell_type": "markdown",
   "id": "53eccc66-48d3-42f9-bdab-952a40b86987",
   "metadata": {
    "panel-layout": {
     "height": 109.40909576416016,
     "visible": true,
     "width": 100
    }
   },
   "source": [
    "identifier cannot be initaite with digit.\n",
    "\n",
    "Identifier cannot use special symbols.\n",
    "\n",
    "Keywords cannot be used as identifier."
   ]
  },
  {
   "cell_type": "code",
   "execution_count": 301,
   "id": "752943d4-abe6-4042-9680-d97e732fed5f",
   "metadata": {
    "panel-layout": {
     "height": 27.136363983154297,
     "visible": true,
     "width": 100
    }
   },
   "outputs": [
    {
     "data": {
      "text/plain": [
       "50"
      ]
     },
     "execution_count": 301,
     "metadata": {},
     "output_type": "execute_result"
    }
   ],
   "source": [
    "str1=50 #assigning string with 50\n",
    "str1"
   ]
  },
  {
   "cell_type": "code",
   "execution_count": 302,
   "id": "675c89bc-663b-4b17-92da-caa423ab0f2d",
   "metadata": {},
   "outputs": [],
   "source": [
    "\"correct way of defining a identifier\"\n",
    "\n",
    "# Identifiers can be a combination of letters in lowercase (a to z) or uppercase and only special character allowed is _,\n",
    "\n",
    "\n",
    "# _ is for using null value\"\n",
    "\n",
    "var=2\n",
    "\n",
    "# \"var is entity called as variable has been created and assignde with value of 2\""
   ]
  },
  {
   "cell_type": "markdown",
   "id": "4391a708-92e4-47a5-aed3-7a7a79f4124e",
   "metadata": {
    "panel-layout": {
     "height": 60.602272033691406,
     "visible": true,
     "width": 100
    }
   },
   "source": [
    "# comments:-"
   ]
  },
  {
   "cell_type": "markdown",
   "id": "03075195-90d7-47ab-ad4b-b4b118fb31d9",
   "metadata": {
    "panel-layout": {
     "height": 51.1363639831543,
     "visible": true,
     "width": 100
    }
   },
   "source": [
    "* comments can be used to explain the code for more readability."
   ]
  },
  {
   "cell_type": "code",
   "execution_count": 303,
   "id": "64f0de77-ceba-44cb-b324-c2a030a8c52b",
   "metadata": {},
   "outputs": [],
   "source": [
    "#this is a single line comment"
   ]
  },
  {
   "cell_type": "markdown",
   "id": "56dfbfbf-6173-46f4-a992-658544a5a1ff",
   "metadata": {
    "panel-layout": {
     "height": 60.602272033691406,
     "visible": true,
     "width": 100
    }
   },
   "source": [
    "# Statments"
   ]
  },
  {
   "cell_type": "code",
   "execution_count": 304,
   "id": "1608f791-21d2-498d-9e61-1f2eec69e4bd",
   "metadata": {
    "panel-layout": {
     "height": 51.1363639831543,
     "visible": true,
     "width": 100
    }
   },
   "outputs": [
    {
     "data": {
      "text/plain": [
       "'Hello everyone how are you'"
      ]
     },
     "execution_count": 304,
     "metadata": {},
     "output_type": "execute_result"
    }
   ],
   "source": [
    "# when you write a single line code that is called single line statment.\n",
    "p2 = \"Hello everyone how are you\"\n",
    "p2"
   ]
  },
  {
   "cell_type": "code",
   "execution_count": 305,
   "id": "254d8a9e-b8a6-4fd7-b6a2-00b8be590288",
   "metadata": {
    "panel-layout": {
     "height": 51.1363639831543,
     "visible": true,
     "width": 100
    }
   },
   "outputs": [
    {
     "data": {
      "text/plain": [
       "'Hey how are you ?'"
      ]
     },
     "execution_count": 305,
     "metadata": {},
     "output_type": "execute_result"
    }
   ],
   "source": [
    "p1 = \"Hey how are you ?\"\n",
    "p1"
   ]
  },
  {
   "cell_type": "code",
   "execution_count": 306,
   "id": "22c0fad1-f006-4b6e-88a7-172130c9e6b6",
   "metadata": {
    "panel-layout": {
     "height": 51.1363639831543,
     "visible": true,
     "width": 100
    }
   },
   "outputs": [
    {
     "data": {
      "text/plain": [
       "'Hello everyone how are you'"
      ]
     },
     "execution_count": 306,
     "metadata": {},
     "output_type": "execute_result"
    }
   ],
   "source": [
    "# if you call both variable one after another pythen execute the line to line code and gives output of last code only.\n",
    "p1\n",
    "p2"
   ]
  },
  {
   "cell_type": "code",
   "execution_count": 307,
   "id": "00fa8339-cf8b-4059-adea-eeb5c153f7f3",
   "metadata": {},
   "outputs": [],
   "source": [
    "# python overrwrites the execution of code and give last output if not usiing print function"
   ]
  },
  {
   "cell_type": "code",
   "execution_count": 308,
   "id": "0fddfb78-73ff-4b4c-95f2-b173142b3269",
   "metadata": {
    "panel-layout": {
     "height": 51.1363639831543,
     "visible": true,
     "width": 100
    }
   },
   "outputs": [
    {
     "name": "stdout",
     "output_type": "stream",
     "text": [
      "Hey how are you ?\n"
     ]
    },
    {
     "data": {
      "text/plain": [
       "'Hello everyone how are you'"
      ]
     },
     "execution_count": 308,
     "metadata": {},
     "output_type": "execute_result"
    }
   ],
   "source": [
    "print(p1)\n",
    "p2"
   ]
  },
  {
   "cell_type": "code",
   "execution_count": 309,
   "id": "a7079165-7032-4a7d-abc7-fc75e852a630",
   "metadata": {
    "panel-layout": {
     "height": 0,
     "visible": true,
     "width": 100
    }
   },
   "outputs": [
    {
     "name": "stdout",
     "output_type": "stream",
     "text": [
      "hi world\n"
     ]
    }
   ],
   "source": [
    "print(\"hi world\")"
   ]
  },
  {
   "cell_type": "code",
   "execution_count": 310,
   "id": "33abe2c9-a277-4c36-8f59-e21a30a52f74",
   "metadata": {
    "panel-layout": {
     "height": 51.1363639831543,
     "visible": true,
     "width": 100
    }
   },
   "outputs": [
    {
     "name": "stdout",
     "output_type": "stream",
     "text": [
      "hello everyone\n"
     ]
    },
    {
     "data": {
      "text/plain": [
       "'Hello all'"
      ]
     },
     "execution_count": 310,
     "metadata": {},
     "output_type": "execute_result"
    }
   ],
   "source": [
    "print (\"hello everyone\")\n",
    "\"Hello all\""
   ]
  },
  {
   "cell_type": "markdown",
   "id": "f6456f3b-a3d3-40e1-850f-e3bf7f19cb06",
   "metadata": {
    "panel-layout": {
     "height": 60.602272033691406,
     "visible": true,
     "width": 100
    }
   },
   "source": [
    "# Variables"
   ]
  },
  {
   "cell_type": "markdown",
   "id": "32f3bfa7-c350-414f-b616-8d2de4797721",
   "metadata": {
    "panel-layout": {
     "height": 68.2727279663086,
     "visible": true,
     "width": 100
    }
   },
   "source": [
    "* A python variable is a reserved memory location to store values.\n",
    "* Avariable is created the moment you first assign a value to it."
   ]
  },
  {
   "cell_type": "code",
   "execution_count": 311,
   "id": "e0e65bb7-e960-4bc2-b98f-9f8f0544517a",
   "metadata": {
    "panel-layout": {
     "height": 51.1363639831543,
     "visible": true,
     "width": 100
    }
   },
   "outputs": [
    {
     "data": {
      "text/plain": [
       "'Hello everyone'"
      ]
     },
     "execution_count": 311,
     "metadata": {},
     "output_type": "execute_result"
    }
   ],
   "source": [
    "\"Hello everyone\""
   ]
  },
  {
   "cell_type": "code",
   "execution_count": 312,
   "id": "ba15adf4-d9fc-4298-a712-e8600292e987",
   "metadata": {},
   "outputs": [],
   "source": [
    "a=\"hello everyone\""
   ]
  },
  {
   "cell_type": "code",
   "execution_count": 313,
   "id": "a69e757d-b371-4132-8f69-524b53e217ae",
   "metadata": {
    "panel-layout": {
     "height": 51.1363639831543,
     "visible": true,
     "width": 100
    }
   },
   "outputs": [
    {
     "data": {
      "text/plain": [
       "'hello everyone'"
      ]
     },
     "execution_count": 313,
     "metadata": {},
     "output_type": "execute_result"
    }
   ],
   "source": [
    "a"
   ]
  },
  {
   "cell_type": "code",
   "execution_count": 314,
   "id": "c764bc3c-f615-4fd2-ac0e-d590a16569d0",
   "metadata": {},
   "outputs": [],
   "source": [
    "k=30 #variable creation\n"
   ]
  },
  {
   "cell_type": "code",
   "execution_count": 315,
   "id": "7183ea12-1395-414e-853d-942aeba7245e",
   "metadata": {
    "panel-layout": {
     "height": 27.136363983154297,
     "visible": true,
     "width": 100
    }
   },
   "outputs": [
    {
     "data": {
      "text/plain": [
       "30"
      ]
     },
     "execution_count": 315,
     "metadata": {},
     "output_type": "execute_result"
    }
   ],
   "source": [
    "k #calling of variable"
   ]
  },
  {
   "cell_type": "markdown",
   "id": "66f4e8a9-dd4d-4d84-b0e1-ab1c40eed747",
   "metadata": {
    "panel-layout": {
     "height": 60.602272033691406,
     "visible": true,
     "width": 100
    }
   },
   "source": [
    "# Variable assignment"
   ]
  },
  {
   "cell_type": "code",
   "execution_count": 316,
   "id": "0287dc2a-383e-4c91-9e73-32139f8b30dd",
   "metadata": {
    "panel-layout": {
     "height": 51.1363639831543,
     "visible": true,
     "width": 100
    }
   },
   "outputs": [
    {
     "data": {
      "text/plain": [
       "'Python Language'"
      ]
     },
     "execution_count": 316,
     "metadata": {},
     "output_type": "execute_result"
    }
   ],
   "source": [
    "intvar=10 #integer variable\n",
    "floatvar=2.57 #Float variable\n",
    "strvar=\"Python Language\" #string variable\n",
    "intvar\n",
    "floatvar\n",
    "strvar"
   ]
  },
  {
   "cell_type": "markdown",
   "id": "f66df81d-ebec-4742-8490-1c689d52937f",
   "metadata": {
    "panel-layout": {
     "height": 60.602272033691406,
     "visible": true,
     "width": 100
    }
   },
   "source": [
    "# Multiple Assignment"
   ]
  },
  {
   "cell_type": "code",
   "execution_count": 317,
   "id": "26bfa266-3534-47d5-b540-1772c06265d0",
   "metadata": {
    "panel-layout": {
     "height": 0,
     "visible": true,
     "width": 100
    }
   },
   "outputs": [
    {
     "name": "stdout",
     "output_type": "stream",
     "text": [
      "10\n",
      "2.57\n",
      "Python Language\n"
     ]
    }
   ],
   "source": [
    "intvar,floatvar,strvar = 10,2.57,\"Python Language\"\n",
    "# using commas to seporate the variable and assigned values\n",
    "print(intvar)\n",
    "print(floatvar)\n",
    "print(strvar)"
   ]
  },
  {
   "cell_type": "code",
   "execution_count": 318,
   "id": "49e8faf7-a7ac-430c-b0bd-b37f54d1fbbb",
   "metadata": {
    "panel-layout": {
     "height": 0,
     "visible": true,
     "width": 100
    }
   },
   "outputs": [
    {
     "name": "stdout",
     "output_type": "stream",
     "text": [
      "10 2.57 Python Language\n"
     ]
    }
   ],
   "source": [
    "print(intvar, floatvar, strvar)"
   ]
  },
  {
   "cell_type": "markdown",
   "id": "e8b8413c-5042-4283-805b-f475c4abe9f5",
   "metadata": {},
   "source": [
    "# Data Types"
   ]
  },
  {
   "cell_type": "markdown",
   "id": "e623f447-4340-4773-b0ab-f05485144519",
   "metadata": {},
   "source": [
    "Numaric"
   ]
  },
  {
   "cell_type": "code",
   "execution_count": 319,
   "id": "96f349df-4b82-41f1-ad7a-2180ee79a933",
   "metadata": {},
   "outputs": [],
   "source": [
    "a=30"
   ]
  },
  {
   "cell_type": "code",
   "execution_count": 320,
   "id": "52eb1b69-41f0-4f90-ac29-bff4a11539d6",
   "metadata": {},
   "outputs": [
    {
     "data": {
      "text/plain": [
       "30"
      ]
     },
     "execution_count": 320,
     "metadata": {},
     "output_type": "execute_result"
    }
   ],
   "source": [
    "a"
   ]
  },
  {
   "cell_type": "code",
   "execution_count": 321,
   "id": "a0e7e563-aa1d-493e-bd56-9bb760be5581",
   "metadata": {},
   "outputs": [
    {
     "data": {
      "text/plain": [
       "int"
      ]
     },
     "execution_count": 321,
     "metadata": {},
     "output_type": "execute_result"
    }
   ],
   "source": [
    "type(a)"
   ]
  },
  {
   "cell_type": "code",
   "execution_count": 322,
   "id": "1cf245be-c588-47a0-8d13-409e595a1fcc",
   "metadata": {},
   "outputs": [],
   "source": [
    "a=25.5"
   ]
  },
  {
   "cell_type": "code",
   "execution_count": 323,
   "id": "65def5dc-e96a-4565-9389-321c96c18766",
   "metadata": {},
   "outputs": [
    {
     "data": {
      "text/plain": [
       "25.5"
      ]
     },
     "execution_count": 323,
     "metadata": {},
     "output_type": "execute_result"
    }
   ],
   "source": [
    "a"
   ]
  },
  {
   "cell_type": "code",
   "execution_count": 324,
   "id": "aa78474d-7cd0-4467-891e-c13be9266593",
   "metadata": {},
   "outputs": [
    {
     "data": {
      "text/plain": [
       "float"
      ]
     },
     "execution_count": 324,
     "metadata": {},
     "output_type": "execute_result"
    }
   ],
   "source": [
    "type(a)"
   ]
  },
  {
   "cell_type": "code",
   "execution_count": 325,
   "id": "6cc434f4-dc58-40e0-8a26-c43191c6556b",
   "metadata": {},
   "outputs": [],
   "source": [
    "import sys"
   ]
  },
  {
   "cell_type": "code",
   "execution_count": 326,
   "id": "1a04ff83-8f56-48ad-b0c3-c29896d5da43",
   "metadata": {},
   "outputs": [
    {
     "data": {
      "text/plain": [
       "24"
      ]
     },
     "execution_count": 326,
     "metadata": {},
     "output_type": "execute_result"
    }
   ],
   "source": [
    "sys.getsizeof(a) #size of float object in byte"
   ]
  },
  {
   "cell_type": "code",
   "execution_count": 327,
   "id": "c8f603c9-e544-4c9c-b831-7844d2b51e5b",
   "metadata": {},
   "outputs": [],
   "source": [
    "x=100\n",
    "y=55.7"
   ]
  },
  {
   "cell_type": "code",
   "execution_count": 328,
   "id": "37bb4451-9ddf-4a9b-8c71-c5217b2f8bc8",
   "metadata": {},
   "outputs": [
    {
     "name": "stdout",
     "output_type": "stream",
     "text": [
      "100\n",
      "55.7\n",
      "<class 'int'>\n",
      "<class 'float'>\n",
      "28\n",
      "24\n"
     ]
    }
   ],
   "source": [
    "print(x)\n",
    "print(y)\n",
    "print(type(x))\n",
    "print(type(y))\n",
    "print(sys.getsizeof(x))\n",
    "print(sys.getsizeof(y))"
   ]
  },
  {
   "cell_type": "code",
   "execution_count": 329,
   "id": "091c2618-368d-43ed-80a2-5b14b3d3354b",
   "metadata": {},
   "outputs": [],
   "source": [
    "# complex data type\n",
    "val3=25+10j # Complex data type"
   ]
  },
  {
   "cell_type": "code",
   "execution_count": 330,
   "id": "64b0e969-f9d2-4ecf-9f97-ac4606ac2038",
   "metadata": {},
   "outputs": [
    {
     "data": {
      "text/plain": [
       "complex"
      ]
     },
     "execution_count": 330,
     "metadata": {},
     "output_type": "execute_result"
    }
   ],
   "source": [
    "type(val3)"
   ]
  },
  {
   "cell_type": "code",
   "execution_count": 331,
   "id": "7dac7d64-5cce-4f5a-8bab-9eaff4346874",
   "metadata": {},
   "outputs": [
    {
     "name": "stdout",
     "output_type": "stream",
     "text": [
      "32\n"
     ]
    }
   ],
   "source": [
    "print(sys.getsizeof(val3))"
   ]
  },
  {
   "cell_type": "code",
   "execution_count": 332,
   "id": "7675dadf-5a05-44c6-aa95-ca26dd29fcda",
   "metadata": {},
   "outputs": [],
   "source": [
    "val2 = 92.78 #float data type"
   ]
  },
  {
   "cell_type": "code",
   "execution_count": 333,
   "id": "880c3064-35a6-46a6-a247-a7e7ff0181d5",
   "metadata": {},
   "outputs": [
    {
     "name": "stdout",
     "output_type": "stream",
     "text": [
      "92.78\n",
      "<class 'float'>\n",
      "24\n",
      "92.78 is int? False\n"
     ]
    }
   ],
   "source": [
    "print(val2)\n",
    "print(type(val2)) #type of object\n",
    "print(sys.getsizeof(val2)) #size of float in byte\n",
    "print(val2, \"is int?\" , isinstance(val2, int)) # val2 is an instance of float"
   ]
  },
  {
   "cell_type": "markdown",
   "id": "18905228-e459-4dde-8c07-8f6724c6ade0",
   "metadata": {},
   "source": [
    "# Boolean\n",
    "* Boolean data type can have only two possible output True or false\n",
    "* it converts any data in two possible answers True and False"
   ]
  },
  {
   "cell_type": "code",
   "execution_count": 334,
   "id": "cae7413a-d836-453c-b6a7-c960c4b9d78b",
   "metadata": {},
   "outputs": [
    {
     "data": {
      "text/plain": [
       "bool"
      ]
     },
     "execution_count": 334,
     "metadata": {},
     "output_type": "execute_result"
    }
   ],
   "source": [
    "bool1=True\n",
    "type(bool1)"
   ]
  },
  {
   "cell_type": "code",
   "execution_count": 335,
   "id": "3d29ce0f-4601-430f-af9f-52b91b7da74c",
   "metadata": {},
   "outputs": [
    {
     "data": {
      "text/plain": [
       "bool"
      ]
     },
     "execution_count": 335,
     "metadata": {},
     "output_type": "execute_result"
    }
   ],
   "source": [
    "bool2=False\n",
    "type(bool2)"
   ]
  },
  {
   "cell_type": "code",
   "execution_count": 336,
   "id": "6a1627b7-fa90-485c-a394-e154a8e34fab",
   "metadata": {},
   "outputs": [
    {
     "data": {
      "text/plain": [
       "int"
      ]
     },
     "execution_count": 336,
     "metadata": {},
     "output_type": "execute_result"
    }
   ],
   "source": [
    "type(10)"
   ]
  },
  {
   "cell_type": "code",
   "execution_count": 337,
   "id": "d582c129-ca6e-4115-b396-a6c1effce387",
   "metadata": {},
   "outputs": [
    {
     "data": {
      "text/plain": [
       "True"
      ]
     },
     "execution_count": 337,
     "metadata": {},
     "output_type": "execute_result"
    }
   ],
   "source": [
    "bool(10) #anything apart from 0 is True"
   ]
  },
  {
   "cell_type": "code",
   "execution_count": 338,
   "id": "c9821f56-6105-4f34-8416-5e2b4906d565",
   "metadata": {},
   "outputs": [
    {
     "data": {
      "text/plain": [
       "False"
      ]
     },
     "execution_count": 338,
     "metadata": {},
     "output_type": "execute_result"
    }
   ],
   "source": [
    "bool(0) # 0 gives output False"
   ]
  },
  {
   "cell_type": "markdown",
   "id": "1bcaf724-a64e-49b4-b368-a6b5cde13840",
   "metadata": {},
   "source": [
    "# String :- String Creation"
   ]
  },
  {
   "cell_type": "code",
   "execution_count": 339,
   "id": "2e9535f6-5b16-42a4-a0f9-9fb8ced3f2bd",
   "metadata": {},
   "outputs": [
    {
     "name": "stdout",
     "output_type": "stream",
     "text": [
      "Hello python\n"
     ]
    }
   ],
   "source": [
    "str1 = \"Hello python\"\n",
    "print(str1)"
   ]
  },
  {
   "cell_type": "code",
   "execution_count": 340,
   "id": "47b07878-ed92-456c-8e4b-1985784e1f9f",
   "metadata": {},
   "outputs": [
    {
     "data": {
      "text/plain": [
       "str"
      ]
     },
     "execution_count": 340,
     "metadata": {},
     "output_type": "execute_result"
    }
   ],
   "source": [
    "type(str1)"
   ]
  },
  {
   "cell_type": "code",
   "execution_count": 341,
   "id": "8ac40619-cb6f-4760-a815-3830a4c59653",
   "metadata": {},
   "outputs": [
    {
     "name": "stdout",
     "output_type": "stream",
     "text": [
      "45\n",
      "<class 'str'>\n"
     ]
    }
   ],
   "source": [
    "a='45' # when any assigned value is given in '' or \"\" it is treated as character/string character\n",
    "print(a)\n",
    "print(type(a))"
   ]
  },
  {
   "cell_type": "code",
   "execution_count": 342,
   "id": "c48a0903-a95a-4282-b9df-5187fbe0e415",
   "metadata": {},
   "outputs": [
    {
     "name": "stdout",
     "output_type": "stream",
     "text": [
      "43\n",
      "True\n"
     ]
    }
   ],
   "source": [
    "print(sys.getsizeof(a)) #sys.getsizeof(any variable) gives size used to store any variable\n",
    "print(isinstance(a, str)) # isinstsnce is used to check the type of any variable using boolean format"
   ]
  },
  {
   "cell_type": "markdown",
   "id": "54cef787-da72-4a10-9444-6d78c97ebe50",
   "metadata": {},
   "source": [
    "# Strint Indexing"
   ]
  },
  {
   "cell_type": "code",
   "execution_count": 343,
   "id": "7dff1b64-65c8-4ac7-9264-a6f9bfada73f",
   "metadata": {},
   "outputs": [
    {
     "data": {
      "text/plain": [
       "'HELLO PYTHON'"
      ]
     },
     "execution_count": 343,
     "metadata": {},
     "output_type": "execute_result"
    }
   ],
   "source": [
    "str1 ='HELLO PYTHON'\n",
    "str1"
   ]
  },
  {
   "cell_type": "code",
   "execution_count": 344,
   "id": "0121bc18-3633-445e-b982-4734a396cbbb",
   "metadata": {},
   "outputs": [
    {
     "data": {
      "text/plain": [
       "'P'"
      ]
     },
     "execution_count": 344,
     "metadata": {},
     "output_type": "execute_result"
    }
   ],
   "source": [
    "str1[6] # taking output of any single character using its position in the given, ex. p is positioned at 6"
   ]
  },
  {
   "cell_type": "code",
   "execution_count": 345,
   "id": "7c14e743-0d02-40c0-8244-3207834153ff",
   "metadata": {},
   "outputs": [
    {
     "data": {
      "text/plain": [
       "'O'"
      ]
     },
     "execution_count": 345,
     "metadata": {},
     "output_type": "execute_result"
    }
   ],
   "source": [
    "str1[4] "
   ]
  },
  {
   "cell_type": "code",
   "execution_count": 346,
   "id": "c14980f2-4d2a-482a-bb8e-ed917a639ad7",
   "metadata": {},
   "outputs": [
    {
     "data": {
      "text/plain": [
       "'N'"
      ]
     },
     "execution_count": 346,
     "metadata": {},
     "output_type": "execute_result"
    }
   ],
   "source": [
    "str1[11] #counting from front starting with 0"
   ]
  },
  {
   "cell_type": "code",
   "execution_count": 347,
   "id": "3df814f8-5a0a-4255-a6b6-21e5480348b4",
   "metadata": {},
   "outputs": [
    {
     "data": {
      "text/plain": [
       "'E'"
      ]
     },
     "execution_count": 347,
     "metadata": {},
     "output_type": "execute_result"
    }
   ],
   "source": [
    "str1[-11] #counting from backwords starting with -1"
   ]
  },
  {
   "cell_type": "markdown",
   "id": "ed1a77a7-6fa2-42e7-a04a-c9b7dbb0204c",
   "metadata": {},
   "source": [
    "# String Slicing"
   ]
  },
  {
   "cell_type": "code",
   "execution_count": 348,
   "id": "2b430a87-4893-4174-a6b5-3b93ef25c061",
   "metadata": {},
   "outputs": [
    {
     "data": {
      "text/plain": [
       "'HELLO PYTHON'"
      ]
     },
     "execution_count": 348,
     "metadata": {},
     "output_type": "execute_result"
    }
   ],
   "source": [
    "str1='HELLO PYTHON'\n",
    "str1"
   ]
  },
  {
   "cell_type": "code",
   "execution_count": 349,
   "id": "8adecd31-1012-414e-8d5b-e02826fb62e1",
   "metadata": {},
   "outputs": [
    {
     "data": {
      "text/plain": [
       "'HELL'"
      ]
     },
     "execution_count": 349,
     "metadata": {},
     "output_type": "execute_result"
    }
   ],
   "source": [
    "str1[0:4] #str1[starting point : Ending point: Steps]"
   ]
  },
  {
   "cell_type": "code",
   "execution_count": 350,
   "id": "a9b218e6-9c4c-4389-bbed-1b056da92f52",
   "metadata": {},
   "outputs": [
    {
     "data": {
      "text/plain": [
       "'PYTHON'"
      ]
     },
     "execution_count": 350,
     "metadata": {},
     "output_type": "execute_result"
    }
   ],
   "source": [
    "str1[6:12]"
   ]
  },
  {
   "cell_type": "code",
   "execution_count": 351,
   "id": "323a4e3a-2e5f-4c4f-9282-e60c4d7adfa7",
   "metadata": {},
   "outputs": [
    {
     "data": {
      "text/plain": [
       "'HL'"
      ]
     },
     "execution_count": 351,
     "metadata": {},
     "output_type": "execute_result"
    }
   ],
   "source": [
    "str1[0:4:2]"
   ]
  },
  {
   "cell_type": "code",
   "execution_count": 352,
   "id": "1443f289-8a0b-45ef-a2c8-f1f5228dc125",
   "metadata": {},
   "outputs": [
    {
     "name": "stdout",
     "output_type": "stream",
     "text": [
      "PTO\n",
      "PH\n"
     ]
    }
   ],
   "source": [
    "print(str1[6:12:2]) # it gives the output of characters with starting point and ending point with skipping the steps \n",
    "                    # and gives the 2nd positioned number in this example \n",
    "print(str1[6:12:3]) # giving 3rd positioned number"
   ]
  },
  {
   "cell_type": "code",
   "execution_count": 353,
   "id": "66b25314-5dff-453b-a75d-5cba9dd7d10f",
   "metadata": {},
   "outputs": [
    {
     "name": "stdout",
     "output_type": "stream",
     "text": [
      "HELL\n",
      "PYTHON\n",
      "NHY\n"
     ]
    }
   ],
   "source": [
    "print(str1[0:4], str1[6:12], str1[-1:-6:-2], sep='\\n') #sep='\\n' is used to have every output in new line"
   ]
  },
  {
   "cell_type": "code",
   "execution_count": 354,
   "id": "dab09a5d-339a-4e2b-bacd-f2e4aa61eab9",
   "metadata": {},
   "outputs": [
    {
     "data": {
      "text/plain": [
       "'NHY'"
      ]
     },
     "execution_count": 354,
     "metadata": {},
     "output_type": "execute_result"
    }
   ],
   "source": [
    "str1[-1:-6:-2] #if using negative/decending order we have to apply negative sign to all "
   ]
  },
  {
   "cell_type": "code",
   "execution_count": 355,
   "id": "0ef070c4-597f-4ba6-82c7-280cb6a3716f",
   "metadata": {},
   "outputs": [],
   "source": [
    "str3='Data is a new fuel'"
   ]
  },
  {
   "cell_type": "code",
   "execution_count": 356,
   "id": "44356ce2-aa2a-4d2a-b15e-323535303ccc",
   "metadata": {},
   "outputs": [
    {
     "name": "stdout",
     "output_type": "stream",
     "text": [
      "Data\n",
      "is\n",
      "a \n",
      "new\n",
      "fuel\n"
     ]
    }
   ],
   "source": [
    "print(str3[0:4], str3[5:7], str3[8:10],str3[10:13], str3[14:], sep='\\n') #counting [starting with 0:starting with zero and the position + 1]"
   ]
  },
  {
   "cell_type": "code",
   "execution_count": 357,
   "id": "151f19ab-e84f-4c22-bb7a-466e0005493f",
   "metadata": {},
   "outputs": [
    {
     "data": {
      "text/plain": [
       "'leuf wen a si ataD'"
      ]
     },
     "execution_count": 357,
     "metadata": {},
     "output_type": "execute_result"
    }
   ],
   "source": [
    "str3[::-1] #whole data is reversed"
   ]
  },
  {
   "cell_type": "code",
   "execution_count": 358,
   "id": "2b54dd71-6c34-49a8-8115-3ff9a16c0eae",
   "metadata": {},
   "outputs": [
    {
     "data": {
      "text/plain": [
       "['Data', 'is', 'a', 'new', 'fuel']"
      ]
     },
     "execution_count": 358,
     "metadata": {},
     "output_type": "execute_result"
    }
   ],
   "source": [
    "str3.split() #spliting every word defult based on space"
   ]
  },
  {
   "cell_type": "code",
   "execution_count": 359,
   "id": "241d0414-fc81-41f0-bcae-373e0d36c2ee",
   "metadata": {},
   "outputs": [
    {
     "data": {
      "text/plain": [
       "'fuel new a is Data'"
      ]
     },
     "execution_count": 359,
     "metadata": {},
     "output_type": "execute_result"
    }
   ],
   "source": [
    "\" \".join(str3.split()[::-1]) #using join function jointed the string together"
   ]
  },
  {
   "cell_type": "code",
   "execution_count": 360,
   "id": "cbff65b0-bd08-4112-89b8-508a9da5bb14",
   "metadata": {},
   "outputs": [],
   "source": [
    "str4=\"Hey I'm a Future Data Scientist. What About You\""
   ]
  },
  {
   "cell_type": "code",
   "execution_count": 361,
   "id": "2b69fab2-2948-4744-b58e-be5f5a182958",
   "metadata": {},
   "outputs": [
    {
     "data": {
      "text/plain": [
       "\"uoY tuobA tahW .tsitneicS ataD erutuF a m'I yeH\""
      ]
     },
     "execution_count": 361,
     "metadata": {},
     "output_type": "execute_result"
    }
   ],
   "source": [
    "str4[::-1] "
   ]
  },
  {
   "cell_type": "code",
   "execution_count": 362,
   "id": "dbe096b5-ea7a-4c8c-8ab4-0861994bf8b5",
   "metadata": {},
   "outputs": [
    {
     "data": {
      "text/plain": [
       "['You', 'About', 'What', 'Scientist.', 'Data', 'Future', 'a', \"I'm\", 'Hey']"
      ]
     },
     "execution_count": 362,
     "metadata": {},
     "output_type": "execute_result"
    }
   ],
   "source": [
    "str4.split()[::-1]"
   ]
  },
  {
   "cell_type": "code",
   "execution_count": 363,
   "id": "f8fe615e-1874-455e-93a8-ca5e8da382aa",
   "metadata": {},
   "outputs": [
    {
     "data": {
      "text/plain": [
       "\"You About What Scientist. Data Future a I'm Hey\""
      ]
     },
     "execution_count": 363,
     "metadata": {},
     "output_type": "execute_result"
    }
   ],
   "source": [
    "\" \".join(str4.split()[::-1]) # have to put space in between \"\" to have space in the sentance between every word"
   ]
  },
  {
   "cell_type": "markdown",
   "id": "bc22fd6c-c50f-4af2-9a75-6b604d597837",
   "metadata": {},
   "source": [
    "# Update and Delete string\n",
    "* strings are immutable which means elements of a string cannot be changed once they are assigned with any values"
   ]
  },
  {
   "cell_type": "code",
   "execution_count": 364,
   "id": "7eab920a-3ab5-4663-af6a-f7a0fc74546f",
   "metadata": {},
   "outputs": [],
   "source": [
    "str1='Hello Python'"
   ]
  },
  {
   "cell_type": "code",
   "execution_count": 365,
   "id": "f181f4ea-cd05-4d7c-a489-4b62751feef3",
   "metadata": {},
   "outputs": [
    {
     "data": {
      "text/plain": [
       "'Hello Python'"
      ]
     },
     "execution_count": 365,
     "metadata": {},
     "output_type": "execute_result"
    }
   ],
   "source": [
    "str1"
   ]
  },
  {
   "cell_type": "code",
   "execution_count": 366,
   "id": "aab97b58-99bc-439f-99c5-f23ef6cf081e",
   "metadata": {},
   "outputs": [
    {
     "ename": "TypeError",
     "evalue": "'str' object does not support item assignment",
     "output_type": "error",
     "traceback": [
      "\u001b[1;31m---------------------------------------------------------------------------\u001b[0m",
      "\u001b[1;31mTypeError\u001b[0m                                 Traceback (most recent call last)",
      "Cell \u001b[1;32mIn[366], line 1\u001b[0m\n\u001b[1;32m----> 1\u001b[0m str1[:\u001b[38;5;241m5\u001b[39m] \u001b[38;5;241m=\u001b[39m\u001b[38;5;124m\"\u001b[39m\u001b[38;5;124mHey\u001b[39m\u001b[38;5;124m\"\u001b[39m\n",
      "\u001b[1;31mTypeError\u001b[0m: 'str' object does not support item assignment"
     ]
    }
   ],
   "source": [
    "str1[:5] =\"Hey\" #we cannot replace the string with another string "
   ]
  },
  {
   "cell_type": "code",
   "execution_count": 367,
   "id": "a0b45b1a-35e4-4256-973d-da64cd2bd817",
   "metadata": {},
   "outputs": [],
   "source": [
    "str2= str1.replace(\"Hello\",\"Hey\") #string.replace('Character to replace', 'by what value the character should be replaced')"
   ]
  },
  {
   "cell_type": "code",
   "execution_count": 368,
   "id": "8e1b5d4e-ec54-438d-aeb8-1491ccacf862",
   "metadata": {},
   "outputs": [
    {
     "data": {
      "text/plain": [
       "'Hello Python'"
      ]
     },
     "execution_count": 368,
     "metadata": {},
     "output_type": "execute_result"
    }
   ],
   "source": [
    "str1"
   ]
  },
  {
   "cell_type": "code",
   "execution_count": 369,
   "id": "aac9f898-146d-4d94-b90d-8d7046be21e9",
   "metadata": {},
   "outputs": [
    {
     "data": {
      "text/plain": [
       "'Hey Python'"
      ]
     },
     "execution_count": 369,
     "metadata": {},
     "output_type": "execute_result"
    }
   ],
   "source": [
    "str2"
   ]
  },
  {
   "cell_type": "code",
   "execution_count": 370,
   "id": "84d2a9d0-e083-46ac-af8a-993e0c5f3351",
   "metadata": {},
   "outputs": [],
   "source": [
    "del str1 #Delete a string"
   ]
  },
  {
   "cell_type": "code",
   "execution_count": 371,
   "id": "627cfdd9-70c2-4d7a-b395-7b613c16fae3",
   "metadata": {},
   "outputs": [
    {
     "ename": "NameError",
     "evalue": "name 'str1' is not defined",
     "output_type": "error",
     "traceback": [
      "\u001b[1;31m---------------------------------------------------------------------------\u001b[0m",
      "\u001b[1;31mNameError\u001b[0m                                 Traceback (most recent call last)",
      "Cell \u001b[1;32mIn[371], line 1\u001b[0m\n\u001b[1;32m----> 1\u001b[0m str1\n",
      "\u001b[1;31mNameError\u001b[0m: name 'str1' is not defined"
     ]
    }
   ],
   "source": [
    "str1 #error accures as the str1 is deleted using del function"
   ]
  },
  {
   "cell_type": "markdown",
   "id": "6b5223ac-3493-40d6-81ee-a2ee7c94a376",
   "metadata": {},
   "source": [
    "# Data "
   ]
  },
  {
   "cell_type": "code",
   "execution_count": 372,
   "id": "1cacd489-cd6e-4ef8-8ffa-200b9be8601e",
   "metadata": {},
   "outputs": [],
   "source": [
    "s1= \"Data\"\n",
    "s2= \"is\"\n",
    "s3= \"new\"\n",
    "s4= \"Fuel\""
   ]
  },
  {
   "cell_type": "code",
   "execution_count": 373,
   "id": "e58e3275-5f14-460d-942e-37a3f5df9a32",
   "metadata": {},
   "outputs": [
    {
     "data": {
      "text/plain": [
       "'Data is new Fuel'"
      ]
     },
     "execution_count": 373,
     "metadata": {},
     "output_type": "execute_result"
    }
   ],
   "source": [
    "s1+\" \"+s2+\" \"+s3+\" \"+s4"
   ]
  },
  {
   "cell_type": "markdown",
   "id": "f6ac0108-1e24-4ca1-bf8f-b23d597e4511",
   "metadata": {},
   "source": [
    "# String Membership"
   ]
  },
  {
   "cell_type": "code",
   "execution_count": 374,
   "id": "8624f5aa-a5c6-4ac6-a8d0-e661e415fbb9",
   "metadata": {},
   "outputs": [],
   "source": [
    "str2=\"Data is new feul\""
   ]
  },
  {
   "cell_type": "code",
   "execution_count": 375,
   "id": "41ac1b64-4d87-47c4-ac25-3be7f5b7146f",
   "metadata": {},
   "outputs": [
    {
     "data": {
      "text/plain": [
       "'Data is new feul'"
      ]
     },
     "execution_count": 375,
     "metadata": {},
     "output_type": "execute_result"
    }
   ],
   "source": [
    "str2"
   ]
  },
  {
   "cell_type": "code",
   "execution_count": 376,
   "id": "c6991106-bdd2-4763-8c7e-eadd43cd6dcf",
   "metadata": {},
   "outputs": [
    {
     "data": {
      "text/plain": [
       "False"
      ]
     },
     "execution_count": 376,
     "metadata": {},
     "output_type": "execute_result"
    }
   ],
   "source": [
    "\"The\" in str2"
   ]
  },
  {
   "cell_type": "code",
   "execution_count": 377,
   "id": "f8a4716f-b449-415e-a5a2-7144e0acc3ad",
   "metadata": {},
   "outputs": [
    {
     "data": {
      "text/plain": [
       "True"
      ]
     },
     "execution_count": 377,
     "metadata": {},
     "output_type": "execute_result"
    }
   ],
   "source": [
    "\"Data\" in str2 #substring in str2"
   ]
  },
  {
   "cell_type": "code",
   "execution_count": 378,
   "id": "4e46ac27-b8ba-4170-9678-1a6dd9fc3397",
   "metadata": {},
   "outputs": [
    {
     "data": {
      "text/plain": [
       "False"
      ]
     },
     "execution_count": 378,
     "metadata": {},
     "output_type": "execute_result"
    }
   ],
   "source": [
    "\"data\" in str2"
   ]
  },
  {
   "cell_type": "markdown",
   "id": "e0a8268a-ec2c-4f5d-af77-26adbe0c674a",
   "metadata": {},
   "source": [
    "# String Function"
   ]
  },
  {
   "cell_type": "code",
   "execution_count": 379,
   "id": "d3c06b7c-a8dd-4d43-9cc0-2f30a9b65a6c",
   "metadata": {},
   "outputs": [],
   "source": [
    "mystr2= \" Hello Everyone \""
   ]
  },
  {
   "cell_type": "code",
   "execution_count": 380,
   "id": "6b44e08e-0009-4df0-9360-ac661396b587",
   "metadata": {},
   "outputs": [
    {
     "data": {
      "text/plain": [
       "1"
      ]
     },
     "execution_count": 380,
     "metadata": {},
     "output_type": "execute_result"
    }
   ],
   "source": [
    "mystr2.count(\"E\") #used to count character of string"
   ]
  },
  {
   "cell_type": "code",
   "execution_count": 381,
   "id": "ff5c8d27-f384-45d4-8b45-ebd5fe5d20b5",
   "metadata": {},
   "outputs": [
    {
     "data": {
      "text/plain": [
       "'Hello Everyone'"
      ]
     },
     "execution_count": 381,
     "metadata": {},
     "output_type": "execute_result"
    }
   ],
   "source": [
    "mystr2.strip() #used to remove white space of string"
   ]
  },
  {
   "cell_type": "code",
   "execution_count": 382,
   "id": "6dd4610b-029b-466f-8678-7990d2daf080",
   "metadata": {},
   "outputs": [
    {
     "data": {
      "text/plain": [
       "' Hello Everyone'"
      ]
     },
     "execution_count": 382,
     "metadata": {},
     "output_type": "execute_result"
    }
   ],
   "source": [
    "mystr2.rstrip() # it is used to remove white space from right/end side"
   ]
  },
  {
   "cell_type": "code",
   "execution_count": 383,
   "id": "6e149fd0-1c53-4ddf-b1e4-7d07aeb12a33",
   "metadata": {},
   "outputs": [
    {
     "data": {
      "text/plain": [
       "'Hello Everyone '"
      ]
     },
     "execution_count": 383,
     "metadata": {},
     "output_type": "execute_result"
    }
   ],
   "source": [
    "mystr2.lstrip() # it is used to remove white space from left/beginning side"
   ]
  },
  {
   "cell_type": "code",
   "execution_count": 384,
   "id": "f038ffaf-f8c9-4d27-a8c5-69b942183000",
   "metadata": {},
   "outputs": [],
   "source": [
    "mystr2='HELLO PYTHON'"
   ]
  },
  {
   "cell_type": "code",
   "execution_count": 385,
   "id": "fe62e5fe-ee6e-4b49-b977-0dc75d19d000",
   "metadata": {},
   "outputs": [
    {
     "data": {
      "text/plain": [
       "'hello python'"
      ]
     },
     "execution_count": 385,
     "metadata": {},
     "output_type": "execute_result"
    }
   ],
   "source": [
    "mystr2.lower() #to have string in lower case"
   ]
  },
  {
   "cell_type": "code",
   "execution_count": 386,
   "id": "afe810f8-3d24-4715-a12f-cf8f4cd097b4",
   "metadata": {},
   "outputs": [],
   "source": [
    "mystr3='hello python'"
   ]
  },
  {
   "cell_type": "code",
   "execution_count": 387,
   "id": "a8d45b4d-2dbb-4ba3-a536-fdd7598be7ac",
   "metadata": {},
   "outputs": [
    {
     "data": {
      "text/plain": [
       "'HELLO PYTHON'"
      ]
     },
     "execution_count": 387,
     "metadata": {},
     "output_type": "execute_result"
    }
   ],
   "source": [
    "mystr3.upper() #to convert string in upper case "
   ]
  },
  {
   "cell_type": "code",
   "execution_count": 388,
   "id": "a9e3c9e3-b94e-4e99-b248-777e0819766f",
   "metadata": {},
   "outputs": [
    {
     "data": {
      "text/plain": [
       "'Hello python'"
      ]
     },
     "execution_count": 388,
     "metadata": {},
     "output_type": "execute_result"
    }
   ],
   "source": [
    "mystr3.capitalize() # to have first letter capital and rest in lowe case"
   ]
  },
  {
   "cell_type": "code",
   "execution_count": 389,
   "id": "2827314f-5d2c-44ad-a707-59ee26462da6",
   "metadata": {},
   "outputs": [],
   "source": [
    "mystr3='hello python '"
   ]
  },
  {
   "cell_type": "code",
   "execution_count": 390,
   "id": "e2dfa025-b485-483d-bbb0-cbf358b6b625",
   "metadata": {},
   "outputs": [
    {
     "data": {
      "text/plain": [
       "True"
      ]
     },
     "execution_count": 390,
     "metadata": {},
     "output_type": "execute_result"
    }
   ],
   "source": [
    "mystr3.startswith(\"hello\") #to check starting characters"
   ]
  },
  {
   "cell_type": "code",
   "execution_count": 391,
   "id": "d2900653-edb0-4eff-97fe-0b4de0d57d03",
   "metadata": {},
   "outputs": [
    {
     "data": {
      "text/plain": [
       "True"
      ]
     },
     "execution_count": 391,
     "metadata": {},
     "output_type": "execute_result"
    }
   ],
   "source": [
    "mystr3.endswith(\"n \") # to check the ending characters"
   ]
  }
 ],
 "metadata": {
  "kernelspec": {
   "display_name": "Python [conda env:base] *",
   "language": "python",
   "name": "conda-base-py"
  },
  "language_info": {
   "codemirror_mode": {
    "name": "ipython",
    "version": 3
   },
   "file_extension": ".py",
   "mimetype": "text/x-python",
   "name": "python",
   "nbconvert_exporter": "python",
   "pygments_lexer": "ipython3",
   "version": "3.12.7"
  },
  "panel-cell-order": [
   "b6cd2f02-a4a1-4d43-a683-4d3b9c74168d",
   "d2ab9df8-a4e5-43ce-ac3b-b7f4b35857a4",
   "d9b3a803-e802-4f95-8a0f-61549a6303ea",
   "2b5fed2c-48da-4f1b-a04d-d186b6158ccc",
   "d209b985-1e96-48f9-a06a-f1eddfcb42c9",
   "c165743b-ab38-47da-9253-b372f5b2251c",
   "826cdc33-27b1-41af-b60d-3ab43a41e708",
   "b268ab1a-e96b-41e0-a74b-53ff239babdd",
   "4406987f-2f7e-44e5-8ca1-f7002f94bf48",
   "068ff352-a427-439d-bf2a-b9ea9b8a5866",
   "881b1d8f-9d8f-45c4-a5ec-2250e17e241a",
   "c2864b38-c54b-4214-9896-ea6cedce2d07",
   "7c100819-5f90-4a9b-bd22-517f740256d1",
   "3c8c95ff-204a-481f-b6a3-9710dee9e5b1",
   "6a8f8903-850b-4067-b84f-5c1d47c92318",
   "ec699ddf-2a96-41e3-bb0b-c2846b467a74",
   "53eccc66-48d3-42f9-bdab-952a40b86987",
   "752943d4-abe6-4042-9680-d97e732fed5f",
   "4391a708-92e4-47a5-aed3-7a7a79f4124e",
   "03075195-90d7-47ab-ad4b-b4b118fb31d9",
   "56dfbfbf-6173-46f4-a992-658544a5a1ff",
   "1608f791-21d2-498d-9e61-1f2eec69e4bd",
   "254d8a9e-b8a6-4fd7-b6a2-00b8be590288",
   "22c0fad1-f006-4b6e-88a7-172130c9e6b6",
   "0fddfb78-73ff-4b4c-95f2-b173142b3269",
   "a7079165-7032-4a7d-abc7-fc75e852a630",
   "33abe2c9-a277-4c36-8f59-e21a30a52f74",
   "f6456f3b-a3d3-40e1-850f-e3bf7f19cb06",
   "32f3bfa7-c350-414f-b616-8d2de4797721",
   "e0e65bb7-e960-4bc2-b98f-9f8f0544517a",
   "a69e757d-b371-4132-8f69-524b53e217ae",
   "7183ea12-1395-414e-853d-942aeba7245e",
   "66f4e8a9-dd4d-4d84-b0e1-ab1c40eed747",
   "0287dc2a-383e-4c91-9e73-32139f8b30dd",
   "f66df81d-ebec-4742-8490-1c689d52937f",
   "26bfa266-3534-47d5-b540-1772c06265d0",
   "49e8faf7-a7ac-430c-b0bd-b37f54d1fbbb"
  ]
 },
 "nbformat": 4,
 "nbformat_minor": 5
}
